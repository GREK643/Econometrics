{
 "cells": [
  {
   "cell_type": "code",
   "execution_count": 1,
   "metadata": {},
   "outputs": [],
   "source": [
    "import pandas as pd\n",
    "from pylab import plot, show, legend, boxplot\n",
    "import seaborn as sns\n",
    "from pylab import title, xlabel, ylabel, axis, savefig, tight_layout, hist, boxplot\n",
    "import statsmodels.api as sm\n",
    "from sklearn.metrics import mean_squared_error, mean_absolute_error\n",
    "import numpy as np\n",
    "import statsmodels.api as sm\n",
    "from stargazer.stargazer import Stargazer"
   ]
  },
  {
   "cell_type": "code",
   "execution_count": 2,
   "metadata": {},
   "outputs": [],
   "source": [
    "df = pd.read_csv('income2 (1).csv', sep = ';')"
   ]
  },
  {
   "cell_type": "code",
   "execution_count": 3,
   "metadata": {},
   "outputs": [],
   "source": [
    "df_age = pd.read_csv('20_50.csv', sep = ';')"
   ]
  },
  {
   "cell_type": "code",
   "execution_count": 4,
   "metadata": {},
   "outputs": [],
   "source": [
    "df_age0 = pd.read_csv('age_e0.csv', sep = ';')"
   ]
  },
  {
   "cell_type": "code",
   "execution_count": 5,
   "metadata": {},
   "outputs": [
    {
     "data": {
      "text/html": [
       "<div>\n",
       "<style scoped>\n",
       "    .dataframe tbody tr th:only-of-type {\n",
       "        vertical-align: middle;\n",
       "    }\n",
       "\n",
       "    .dataframe tbody tr th {\n",
       "        vertical-align: top;\n",
       "    }\n",
       "\n",
       "    .dataframe thead th {\n",
       "        text-align: right;\n",
       "    }\n",
       "</style>\n",
       "<table border=\"1\" class=\"dataframe\">\n",
       "  <thead>\n",
       "    <tr style=\"text-align: right;\">\n",
       "      <th></th>\n",
       "      <th>age</th>\n",
       "      <th>wage_per_hour</th>\n",
       "    </tr>\n",
       "  </thead>\n",
       "  <tbody>\n",
       "    <tr>\n",
       "      <th>0</th>\n",
       "      <td>42</td>\n",
       "      <td>1215</td>\n",
       "    </tr>\n",
       "    <tr>\n",
       "      <th>1</th>\n",
       "      <td>26</td>\n",
       "      <td>650</td>\n",
       "    </tr>\n",
       "    <tr>\n",
       "      <th>2</th>\n",
       "      <td>25</td>\n",
       "      <td>847</td>\n",
       "    </tr>\n",
       "    <tr>\n",
       "      <th>3</th>\n",
       "      <td>39</td>\n",
       "      <td>1005</td>\n",
       "    </tr>\n",
       "    <tr>\n",
       "      <th>4</th>\n",
       "      <td>43</td>\n",
       "      <td>600</td>\n",
       "    </tr>\n",
       "    <tr>\n",
       "      <th>...</th>\n",
       "      <td>...</td>\n",
       "      <td>...</td>\n",
       "    </tr>\n",
       "    <tr>\n",
       "      <th>977</th>\n",
       "      <td>47</td>\n",
       "      <td>700</td>\n",
       "    </tr>\n",
       "    <tr>\n",
       "      <th>978</th>\n",
       "      <td>32</td>\n",
       "      <td>900</td>\n",
       "    </tr>\n",
       "    <tr>\n",
       "      <th>979</th>\n",
       "      <td>40</td>\n",
       "      <td>400</td>\n",
       "    </tr>\n",
       "    <tr>\n",
       "      <th>980</th>\n",
       "      <td>43</td>\n",
       "      <td>800</td>\n",
       "    </tr>\n",
       "    <tr>\n",
       "      <th>981</th>\n",
       "      <td>24</td>\n",
       "      <td>550</td>\n",
       "    </tr>\n",
       "  </tbody>\n",
       "</table>\n",
       "<p>982 rows × 2 columns</p>\n",
       "</div>"
      ],
      "text/plain": [
       "     age  wage_per_hour\n",
       "0     42           1215\n",
       "1     26            650\n",
       "2     25            847\n",
       "3     39           1005\n",
       "4     43            600\n",
       "..   ...            ...\n",
       "977   47            700\n",
       "978   32            900\n",
       "979   40            400\n",
       "980   43            800\n",
       "981   24            550\n",
       "\n",
       "[982 rows x 2 columns]"
      ]
     },
     "execution_count": 5,
     "metadata": {},
     "output_type": "execute_result"
    }
   ],
   "source": [
    "df_age0"
   ]
  },
  {
   "cell_type": "code",
   "execution_count": 6,
   "metadata": {},
   "outputs": [],
   "source": [
    "df1 = df.drop(columns = ['industry_code', 'occupation_code', 'enrolled_in_edu_inst_lastwk'])"
   ]
  },
  {
   "cell_type": "code",
   "execution_count": 7,
   "metadata": {},
   "outputs": [
    {
     "data": {
      "text/html": [
       "<div>\n",
       "<style scoped>\n",
       "    .dataframe tbody tr th:only-of-type {\n",
       "        vertical-align: middle;\n",
       "    }\n",
       "\n",
       "    .dataframe tbody tr th {\n",
       "        vertical-align: top;\n",
       "    }\n",
       "\n",
       "    .dataframe thead th {\n",
       "        text-align: right;\n",
       "    }\n",
       "</style>\n",
       "<table border=\"1\" class=\"dataframe\">\n",
       "  <thead>\n",
       "    <tr style=\"text-align: right;\">\n",
       "      <th></th>\n",
       "      <th>age</th>\n",
       "      <th>class_of_worker</th>\n",
       "      <th>education</th>\n",
       "      <th>wage_per_hour</th>\n",
       "      <th>marital_status</th>\n",
       "      <th>major_industry_code</th>\n",
       "      <th>major_occupation_code</th>\n",
       "      <th>race</th>\n",
       "      <th>hispanic_origin</th>\n",
       "      <th>sex</th>\n",
       "      <th>...</th>\n",
       "      <th>country_father</th>\n",
       "      <th>country_mother</th>\n",
       "      <th>country_self</th>\n",
       "      <th>citizenship</th>\n",
       "      <th>business_or_self_employed</th>\n",
       "      <th>fill_questionnaire_veteran_admin</th>\n",
       "      <th>veterans_benefits</th>\n",
       "      <th>weeks_worked_in_year</th>\n",
       "      <th>year</th>\n",
       "      <th>income_level</th>\n",
       "    </tr>\n",
       "  </thead>\n",
       "  <tbody>\n",
       "    <tr>\n",
       "      <th>0</th>\n",
       "      <td>42</td>\n",
       "      <td>Private</td>\n",
       "      <td>0</td>\n",
       "      <td>1215</td>\n",
       "      <td>0</td>\n",
       "      <td>Mining</td>\n",
       "      <td>Precision production craft &amp; repair</td>\n",
       "      <td>0</td>\n",
       "      <td>All other</td>\n",
       "      <td>0</td>\n",
       "      <td>...</td>\n",
       "      <td>United-States</td>\n",
       "      <td>United-States</td>\n",
       "      <td>United-States</td>\n",
       "      <td>Native- Born in the United States</td>\n",
       "      <td>0</td>\n",
       "      <td>0t in universe</td>\n",
       "      <td>2</td>\n",
       "      <td>52</td>\n",
       "      <td>95</td>\n",
       "      <td>0</td>\n",
       "    </tr>\n",
       "    <tr>\n",
       "      <th>1</th>\n",
       "      <td>26</td>\n",
       "      <td>Private</td>\n",
       "      <td>2</td>\n",
       "      <td>525</td>\n",
       "      <td>0</td>\n",
       "      <td>Entertainment</td>\n",
       "      <td>Other service</td>\n",
       "      <td>0</td>\n",
       "      <td>All other</td>\n",
       "      <td>1</td>\n",
       "      <td>...</td>\n",
       "      <td>United-States</td>\n",
       "      <td>United-States</td>\n",
       "      <td>United-States</td>\n",
       "      <td>Native- Born in the United States</td>\n",
       "      <td>0</td>\n",
       "      <td>0t in universe</td>\n",
       "      <td>2</td>\n",
       "      <td>52</td>\n",
       "      <td>95</td>\n",
       "      <td>0</td>\n",
       "    </tr>\n",
       "    <tr>\n",
       "      <th>2</th>\n",
       "      <td>18</td>\n",
       "      <td>Private</td>\n",
       "      <td>0</td>\n",
       "      <td>475</td>\n",
       "      <td>0</td>\n",
       "      <td>Retail trade</td>\n",
       "      <td>Sales</td>\n",
       "      <td>0</td>\n",
       "      <td>All other</td>\n",
       "      <td>0</td>\n",
       "      <td>...</td>\n",
       "      <td>United-States</td>\n",
       "      <td>United-States</td>\n",
       "      <td>United-States</td>\n",
       "      <td>Native- Born in the United States</td>\n",
       "      <td>2</td>\n",
       "      <td>0t in universe</td>\n",
       "      <td>2</td>\n",
       "      <td>50</td>\n",
       "      <td>95</td>\n",
       "      <td>0</td>\n",
       "    </tr>\n",
       "    <tr>\n",
       "      <th>3</th>\n",
       "      <td>24</td>\n",
       "      <td>Private</td>\n",
       "      <td>1</td>\n",
       "      <td>550</td>\n",
       "      <td>1</td>\n",
       "      <td>Retail trade</td>\n",
       "      <td>Other service</td>\n",
       "      <td>0</td>\n",
       "      <td>All other</td>\n",
       "      <td>0</td>\n",
       "      <td>...</td>\n",
       "      <td>Mexico</td>\n",
       "      <td>United-States</td>\n",
       "      <td>United-States</td>\n",
       "      <td>Native- Born in the United States</td>\n",
       "      <td>2</td>\n",
       "      <td>0t in universe</td>\n",
       "      <td>2</td>\n",
       "      <td>52</td>\n",
       "      <td>94</td>\n",
       "      <td>0</td>\n",
       "    </tr>\n",
       "    <tr>\n",
       "      <th>4</th>\n",
       "      <td>46</td>\n",
       "      <td>Private</td>\n",
       "      <td>1</td>\n",
       "      <td>465</td>\n",
       "      <td>1</td>\n",
       "      <td>Hospital services</td>\n",
       "      <td>Other service</td>\n",
       "      <td>0</td>\n",
       "      <td>All other</td>\n",
       "      <td>1</td>\n",
       "      <td>...</td>\n",
       "      <td>United-States</td>\n",
       "      <td>United-States</td>\n",
       "      <td>United-States</td>\n",
       "      <td>Native- Born in the United States</td>\n",
       "      <td>0</td>\n",
       "      <td>0t in universe</td>\n",
       "      <td>2</td>\n",
       "      <td>52</td>\n",
       "      <td>94</td>\n",
       "      <td>0</td>\n",
       "    </tr>\n",
       "    <tr>\n",
       "      <th>...</th>\n",
       "      <td>...</td>\n",
       "      <td>...</td>\n",
       "      <td>...</td>\n",
       "      <td>...</td>\n",
       "      <td>...</td>\n",
       "      <td>...</td>\n",
       "      <td>...</td>\n",
       "      <td>...</td>\n",
       "      <td>...</td>\n",
       "      <td>...</td>\n",
       "      <td>...</td>\n",
       "      <td>...</td>\n",
       "      <td>...</td>\n",
       "      <td>...</td>\n",
       "      <td>...</td>\n",
       "      <td>...</td>\n",
       "      <td>...</td>\n",
       "      <td>...</td>\n",
       "      <td>...</td>\n",
       "      <td>...</td>\n",
       "      <td>...</td>\n",
       "    </tr>\n",
       "    <tr>\n",
       "      <th>11174</th>\n",
       "      <td>21</td>\n",
       "      <td>Private</td>\n",
       "      <td>1</td>\n",
       "      <td>460</td>\n",
       "      <td>1</td>\n",
       "      <td>Retail trade</td>\n",
       "      <td>Handlers equip cleaners etc</td>\n",
       "      <td>0</td>\n",
       "      <td>All other</td>\n",
       "      <td>1</td>\n",
       "      <td>...</td>\n",
       "      <td>United-States</td>\n",
       "      <td>United-States</td>\n",
       "      <td>United-States</td>\n",
       "      <td>Native- Born in the United States</td>\n",
       "      <td>0</td>\n",
       "      <td>0t in universe</td>\n",
       "      <td>2</td>\n",
       "      <td>0</td>\n",
       "      <td>95</td>\n",
       "      <td>0</td>\n",
       "    </tr>\n",
       "    <tr>\n",
       "      <th>11175</th>\n",
       "      <td>37</td>\n",
       "      <td>Local government</td>\n",
       "      <td>2</td>\n",
       "      <td>1135</td>\n",
       "      <td>1</td>\n",
       "      <td>Utilities and sanitary services</td>\n",
       "      <td>Adm support including clerical</td>\n",
       "      <td>0</td>\n",
       "      <td>All other</td>\n",
       "      <td>1</td>\n",
       "      <td>...</td>\n",
       "      <td>United-States</td>\n",
       "      <td>United-States</td>\n",
       "      <td>United-States</td>\n",
       "      <td>Native- Born in the United States</td>\n",
       "      <td>0</td>\n",
       "      <td>0t in universe</td>\n",
       "      <td>2</td>\n",
       "      <td>52</td>\n",
       "      <td>94</td>\n",
       "      <td>0</td>\n",
       "    </tr>\n",
       "    <tr>\n",
       "      <th>11176</th>\n",
       "      <td>43</td>\n",
       "      <td>Private</td>\n",
       "      <td>2</td>\n",
       "      <td>2200</td>\n",
       "      <td>1</td>\n",
       "      <td>Manufacturing-durable goods</td>\n",
       "      <td>Professional specialty</td>\n",
       "      <td>0</td>\n",
       "      <td>All other</td>\n",
       "      <td>0</td>\n",
       "      <td>...</td>\n",
       "      <td>United-States</td>\n",
       "      <td>United-States</td>\n",
       "      <td>United-States</td>\n",
       "      <td>Native- Born in the United States</td>\n",
       "      <td>0</td>\n",
       "      <td>0t in universe</td>\n",
       "      <td>2</td>\n",
       "      <td>52</td>\n",
       "      <td>95</td>\n",
       "      <td>1</td>\n",
       "    </tr>\n",
       "    <tr>\n",
       "      <th>11177</th>\n",
       "      <td>33</td>\n",
       "      <td>Private</td>\n",
       "      <td>1</td>\n",
       "      <td>700</td>\n",
       "      <td>0</td>\n",
       "      <td>Retail trade</td>\n",
       "      <td>Handlers equip cleaners etc</td>\n",
       "      <td>0</td>\n",
       "      <td>All other</td>\n",
       "      <td>0</td>\n",
       "      <td>...</td>\n",
       "      <td>United-States</td>\n",
       "      <td>United-States</td>\n",
       "      <td>United-States</td>\n",
       "      <td>Native- Born in the United States</td>\n",
       "      <td>0</td>\n",
       "      <td>0t in universe</td>\n",
       "      <td>2</td>\n",
       "      <td>52</td>\n",
       "      <td>95</td>\n",
       "      <td>0</td>\n",
       "    </tr>\n",
       "    <tr>\n",
       "      <th>11178</th>\n",
       "      <td>26</td>\n",
       "      <td>Private</td>\n",
       "      <td>2</td>\n",
       "      <td>1380</td>\n",
       "      <td>0</td>\n",
       "      <td>Finance insurance and real estate</td>\n",
       "      <td>Executive admin and managerial</td>\n",
       "      <td>0</td>\n",
       "      <td>All other</td>\n",
       "      <td>1</td>\n",
       "      <td>...</td>\n",
       "      <td>United-States</td>\n",
       "      <td>United-States</td>\n",
       "      <td>United-States</td>\n",
       "      <td>Native- Born in the United States</td>\n",
       "      <td>0</td>\n",
       "      <td>0t in universe</td>\n",
       "      <td>2</td>\n",
       "      <td>52</td>\n",
       "      <td>95</td>\n",
       "      <td>0</td>\n",
       "    </tr>\n",
       "  </tbody>\n",
       "</table>\n",
       "<p>11179 rows × 38 columns</p>\n",
       "</div>"
      ],
      "text/plain": [
       "       age   class_of_worker  education  wage_per_hour  marital_status  \\\n",
       "0       42           Private          0           1215               0   \n",
       "1       26           Private          2            525               0   \n",
       "2       18           Private          0            475               0   \n",
       "3       24           Private          1            550               1   \n",
       "4       46           Private          1            465               1   \n",
       "...    ...               ...        ...            ...             ...   \n",
       "11174   21           Private          1            460               1   \n",
       "11175   37  Local government          2           1135               1   \n",
       "11176   43           Private          2           2200               1   \n",
       "11177   33           Private          1            700               0   \n",
       "11178   26           Private          2           1380               0   \n",
       "\n",
       "                      major_industry_code  \\\n",
       "0                                  Mining   \n",
       "1                           Entertainment   \n",
       "2                            Retail trade   \n",
       "3                            Retail trade   \n",
       "4                       Hospital services   \n",
       "...                                   ...   \n",
       "11174                        Retail trade   \n",
       "11175     Utilities and sanitary services   \n",
       "11176         Manufacturing-durable goods   \n",
       "11177                        Retail trade   \n",
       "11178   Finance insurance and real estate   \n",
       "\n",
       "                     major_occupation_code  race hispanic_origin  sex  ...  \\\n",
       "0      Precision production craft & repair     0       All other    0  ...   \n",
       "1                            Other service     0       All other    1  ...   \n",
       "2                                    Sales     0       All other    0  ...   \n",
       "3                            Other service     0       All other    0  ...   \n",
       "4                            Other service     0       All other    1  ...   \n",
       "...                                    ...   ...             ...  ...  ...   \n",
       "11174          Handlers equip cleaners etc     0       All other    1  ...   \n",
       "11175       Adm support including clerical     0       All other    1  ...   \n",
       "11176               Professional specialty     0       All other    0  ...   \n",
       "11177          Handlers equip cleaners etc     0       All other    0  ...   \n",
       "11178       Executive admin and managerial     0       All other    1  ...   \n",
       "\n",
       "       country_father  country_mother    country_self  \\\n",
       "0       United-States   United-States   United-States   \n",
       "1       United-States   United-States   United-States   \n",
       "2       United-States   United-States   United-States   \n",
       "3              Mexico   United-States   United-States   \n",
       "4       United-States   United-States   United-States   \n",
       "...               ...             ...             ...   \n",
       "11174   United-States   United-States   United-States   \n",
       "11175   United-States   United-States   United-States   \n",
       "11176   United-States   United-States   United-States   \n",
       "11177   United-States   United-States   United-States   \n",
       "11178   United-States   United-States   United-States   \n",
       "\n",
       "                              citizenship  business_or_self_employed  \\\n",
       "0       Native- Born in the United States                          0   \n",
       "1       Native- Born in the United States                          0   \n",
       "2       Native- Born in the United States                          2   \n",
       "3       Native- Born in the United States                          2   \n",
       "4       Native- Born in the United States                          0   \n",
       "...                                   ...                        ...   \n",
       "11174   Native- Born in the United States                          0   \n",
       "11175   Native- Born in the United States                          0   \n",
       "11176   Native- Born in the United States                          0   \n",
       "11177   Native- Born in the United States                          0   \n",
       "11178   Native- Born in the United States                          0   \n",
       "\n",
       "       fill_questionnaire_veteran_admin veterans_benefits  \\\n",
       "0                        0t in universe                 2   \n",
       "1                        0t in universe                 2   \n",
       "2                        0t in universe                 2   \n",
       "3                        0t in universe                 2   \n",
       "4                        0t in universe                 2   \n",
       "...                                 ...               ...   \n",
       "11174                    0t in universe                 2   \n",
       "11175                    0t in universe                 2   \n",
       "11176                    0t in universe                 2   \n",
       "11177                    0t in universe                 2   \n",
       "11178                    0t in universe                 2   \n",
       "\n",
       "      weeks_worked_in_year year income_level  \n",
       "0                       52   95            0  \n",
       "1                       52   95            0  \n",
       "2                       50   95            0  \n",
       "3                       52   94            0  \n",
       "4                       52   94            0  \n",
       "...                    ...  ...          ...  \n",
       "11174                    0   95            0  \n",
       "11175                   52   94            0  \n",
       "11176                   52   95            1  \n",
       "11177                   52   95            0  \n",
       "11178                   52   95            0  \n",
       "\n",
       "[11179 rows x 38 columns]"
      ]
     },
     "execution_count": 7,
     "metadata": {},
     "output_type": "execute_result"
    }
   ],
   "source": [
    "df1"
   ]
  },
  {
   "cell_type": "code",
   "execution_count": 8,
   "metadata": {
    "scrolled": true
   },
   "outputs": [],
   "source": [
    "#sns.lmplot(x='education', y='wage_per_hour', data=df,  line_kws = {'color' : 'black'})\n",
    "#show()"
   ]
  },
  {
   "cell_type": "code",
   "execution_count": 9,
   "metadata": {},
   "outputs": [],
   "source": [
    "df1['lwage'] = np.log(df1['wage_per_hour'])"
   ]
  },
  {
   "cell_type": "code",
   "execution_count": 10,
   "metadata": {},
   "outputs": [],
   "source": [
    "y = df1['lwage']\n",
    "X = df1['education']\n",
    "\n",
    "X = sm.add_constant(X)"
   ]
  },
  {
   "cell_type": "code",
   "execution_count": 11,
   "metadata": {},
   "outputs": [
    {
     "data": {
      "text/html": [
       "<table class=\"simpletable\">\n",
       "<caption>OLS Regression Results</caption>\n",
       "<tr>\n",
       "  <th>Dep. Variable:</th>          <td>lwage</td>      <th>  R-squared:         </th> <td>   0.072</td> \n",
       "</tr>\n",
       "<tr>\n",
       "  <th>Model:</th>                   <td>OLS</td>       <th>  Adj. R-squared:    </th> <td>   0.072</td> \n",
       "</tr>\n",
       "<tr>\n",
       "  <th>Method:</th>             <td>Least Squares</td>  <th>  F-statistic:       </th> <td>   873.3</td> \n",
       "</tr>\n",
       "<tr>\n",
       "  <th>Date:</th>             <td>Wed, 22 Dec 2021</td> <th>  Prob (F-statistic):</th> <td>7.14e-185</td>\n",
       "</tr>\n",
       "<tr>\n",
       "  <th>Time:</th>                 <td>13:44:17</td>     <th>  Log-Likelihood:    </th> <td> -8031.2</td> \n",
       "</tr>\n",
       "<tr>\n",
       "  <th>No. Observations:</th>      <td> 11179</td>      <th>  AIC:               </th> <td>1.607e+04</td>\n",
       "</tr>\n",
       "<tr>\n",
       "  <th>Df Residuals:</th>          <td> 11177</td>      <th>  BIC:               </th> <td>1.608e+04</td>\n",
       "</tr>\n",
       "<tr>\n",
       "  <th>Df Model:</th>              <td>     1</td>      <th>                     </th>     <td> </td>    \n",
       "</tr>\n",
       "<tr>\n",
       "  <th>Covariance Type:</th>      <td>nonrobust</td>    <th>                     </th>     <td> </td>    \n",
       "</tr>\n",
       "</table>\n",
       "<table class=\"simpletable\">\n",
       "<tr>\n",
       "      <td></td>         <th>coef</th>     <th>std err</th>      <th>t</th>      <th>P>|t|</th>  <th>[0.025</th>    <th>0.975]</th>  \n",
       "</tr>\n",
       "<tr>\n",
       "  <th>const</th>     <td>    6.5074</td> <td>    0.009</td> <td>  698.985</td> <td> 0.000</td> <td>    6.489</td> <td>    6.526</td>\n",
       "</tr>\n",
       "<tr>\n",
       "  <th>education</th> <td>    0.1868</td> <td>    0.006</td> <td>   29.552</td> <td> 0.000</td> <td>    0.174</td> <td>    0.199</td>\n",
       "</tr>\n",
       "</table>\n",
       "<table class=\"simpletable\">\n",
       "<tr>\n",
       "  <th>Omnibus:</th>       <td>401.034</td> <th>  Durbin-Watson:     </th> <td>   2.022</td> \n",
       "</tr>\n",
       "<tr>\n",
       "  <th>Prob(Omnibus):</th> <td> 0.000</td>  <th>  Jarque-Bera (JB):  </th> <td> 739.577</td> \n",
       "</tr>\n",
       "<tr>\n",
       "  <th>Skew:</th>          <td> 0.285</td>  <th>  Prob(JB):          </th> <td>2.53e-161</td>\n",
       "</tr>\n",
       "<tr>\n",
       "  <th>Kurtosis:</th>      <td> 4.124</td>  <th>  Cond. No.          </th> <td>    4.02</td> \n",
       "</tr>\n",
       "</table><br/><br/>Notes:<br/>[1] Standard Errors assume that the covariance matrix of the errors is correctly specified."
      ],
      "text/plain": [
       "<class 'statsmodels.iolib.summary.Summary'>\n",
       "\"\"\"\n",
       "                            OLS Regression Results                            \n",
       "==============================================================================\n",
       "Dep. Variable:                  lwage   R-squared:                       0.072\n",
       "Model:                            OLS   Adj. R-squared:                  0.072\n",
       "Method:                 Least Squares   F-statistic:                     873.3\n",
       "Date:                Wed, 22 Dec 2021   Prob (F-statistic):          7.14e-185\n",
       "Time:                        13:44:17   Log-Likelihood:                -8031.2\n",
       "No. Observations:               11179   AIC:                         1.607e+04\n",
       "Df Residuals:                   11177   BIC:                         1.608e+04\n",
       "Df Model:                           1                                         \n",
       "Covariance Type:            nonrobust                                         \n",
       "==============================================================================\n",
       "                 coef    std err          t      P>|t|      [0.025      0.975]\n",
       "------------------------------------------------------------------------------\n",
       "const          6.5074      0.009    698.985      0.000       6.489       6.526\n",
       "education      0.1868      0.006     29.552      0.000       0.174       0.199\n",
       "==============================================================================\n",
       "Omnibus:                      401.034   Durbin-Watson:                   2.022\n",
       "Prob(Omnibus):                  0.000   Jarque-Bera (JB):              739.577\n",
       "Skew:                           0.285   Prob(JB):                    2.53e-161\n",
       "Kurtosis:                       4.124   Cond. No.                         4.02\n",
       "==============================================================================\n",
       "\n",
       "Notes:\n",
       "[1] Standard Errors assume that the covariance matrix of the errors is correctly specified.\n",
       "\"\"\""
      ]
     },
     "execution_count": 11,
     "metadata": {},
     "output_type": "execute_result"
    }
   ],
   "source": [
    "model5 = sm.OLS(y,X).fit()\n",
    "model5.summary()"
   ]
  },
  {
   "cell_type": "code",
   "execution_count": 12,
   "metadata": {},
   "outputs": [
    {
     "data": {
      "image/png": "[encoded data removed]",
      "text/plain": [
       "<Figure size 432x288 with 1 Axes>"
      ]
     },
     "metadata": {
      "needs_background": "light"
     },
     "output_type": "display_data"
    }
   ],
   "source": [
    "hist(df1.age, bins = 20, color = 'green', edgecolor = 'black')\n",
    "xlabel('age', color = 'brown')\n",
    "ylabel('Liczba obserwacji', color = 'brown')\n",
    "tight_layout()\n",
    "show()"
   ]
  },
  {
   "cell_type": "code",
   "execution_count": 13,
   "metadata": {},
   "outputs": [
    {
     "data": {
      "image/png": "[encoded data removed]",
      "text/plain": [
       "<Figure size 360x360 with 1 Axes>"
      ]
     },
     "metadata": {
      "needs_background": "light"
     },
     "output_type": "display_data"
    }
   ],
   "source": [
    "sns.lmplot(x='sex', y='wage_per_hour', data=df1,  line_kws = {'color' : 'black'})\n",
    "show()"
   ]
  },
  {
   "cell_type": "code",
   "execution_count": 14,
   "metadata": {},
   "outputs": [
    {
     "data": {
      "image/png": "[encoded data removed]",
      "text/plain": [
       "<Figure size 360x360 with 1 Axes>"
      ]
     },
     "metadata": {
      "needs_background": "light"
     },
     "output_type": "display_data"
    }
   ],
   "source": [
    "sns.lmplot(x='education', y='wage_per_hour', data=df1,  line_kws = {'color' : 'black'})\n",
    "show()"
   ]
  },
  {
   "cell_type": "code",
   "execution_count": 15,
   "metadata": {},
   "outputs": [
    {
     "data": {
      "image/png": "[encoded data removed]",
      "text/plain": [
       "<Figure size 432x288 with 1 Axes>"
      ]
     },
     "metadata": {
      "needs_background": "light"
     },
     "output_type": "display_data"
    }
   ],
   "source": [
    "hist(df1.lwage, bins = 20, color = 'green', edgecolor = 'black')\n",
    "xlabel('Wage', color = 'brown')\n",
    "ylabel('Liczba obserwacji', color = 'brown')\n",
    "tight_layout()\n",
    "show()"
   ]
  },
  {
   "cell_type": "code",
   "execution_count": 16,
   "metadata": {},
   "outputs": [
    {
     "data": {
      "image/png": "[encoded data removed]",
      "text/plain": [
       "<Figure size 360x360 with 1 Axes>"
      ]
     },
     "metadata": {
      "needs_background": "light"
     },
     "output_type": "display_data"
    }
   ],
   "source": [
    "sns.lmplot(x='weeks_worked_in_year', y='wage_per_hour', data=df1,  line_kws = {'color' : 'black'})\n",
    "show()"
   ]
  },
  {
   "cell_type": "code",
   "execution_count": 17,
   "metadata": {
    "tags": []
   },
   "outputs": [
    {
     "data": {
      "image/png": "[encoded data removed]",
      "text/plain": [
       "<Figure size 432x288 with 1 Axes>"
      ]
     },
     "metadata": {
      "needs_background": "light"
     },
     "output_type": "display_data"
    }
   ],
   "source": [
    "hist(df1.weeks_worked_in_year, bins = 100, color = 'green', edgecolor = 'black')\n",
    "xlabel('weeks', color = 'brown')\n",
    "ylabel('Liczba obserwacji', color = 'brown')\n",
    "tight_layout()\n",
    "show()"
   ]
  },
  {
   "cell_type": "code",
   "execution_count": 18,
   "metadata": {},
   "outputs": [],
   "source": [
    "df_age['lwage'] = np.log(df_age['wage_per_hour'])"
   ]
  },
  {
   "cell_type": "code",
   "execution_count": 19,
   "metadata": {},
   "outputs": [],
   "source": [
    "y = df_age['lwage']\n",
    "X = df_age['education']\n",
    "\n",
    "X = sm.add_constant(X)"
   ]
  },
  {
   "cell_type": "code",
   "execution_count": 20,
   "metadata": {},
   "outputs": [],
   "source": [
    "model = sm.OLS(y, X).fit()"
   ]
  },
  {
   "cell_type": "code",
   "execution_count": null,
   "metadata": {},
   "outputs": [],
   "source": [
    "model.summary()"
   ]
  },
  {
   "cell_type": "code",
   "execution_count": 22,
   "metadata": {},
   "outputs": [],
   "source": [
    "df_age0['lwage'] = np.log(df_age0['wage_per_hour'])"
   ]
  },
  {
   "cell_type": "code",
   "execution_count": 23,
   "metadata": {},
   "outputs": [],
   "source": [
    "y = df_age['lwage']\n",
    "X = df_age['age']"
   ]
  },
  {
   "cell_type": "code",
   "execution_count": 24,
   "metadata": {},
   "outputs": [
    {
     "data": {
      "text/html": [
       "<table class=\"simpletable\">\n",
       "<caption>OLS Regression Results</caption>\n",
       "<tr>\n",
       "  <th>Dep. Variable:</th>          <td>lwage</td>      <th>  R-squared (uncentered):</th>      <td>   0.943</td> \n",
       "</tr>\n",
       "<tr>\n",
       "  <th>Model:</th>                   <td>OLS</td>       <th>  Adj. R-squared (uncentered):</th> <td>   0.943</td> \n",
       "</tr>\n",
       "<tr>\n",
       "  <th>Method:</th>             <td>Least Squares</td>  <th>  F-statistic:       </th>          <td>1.390e+05</td>\n",
       "</tr>\n",
       "<tr>\n",
       "  <th>Date:</th>             <td>Wed, 22 Dec 2021</td> <th>  Prob (F-statistic):</th>           <td>  0.00</td>  \n",
       "</tr>\n",
       "<tr>\n",
       "  <th>Time:</th>                 <td>13:44:19</td>     <th>  Log-Likelihood:    </th>          <td> -16181.</td> \n",
       "</tr>\n",
       "<tr>\n",
       "  <th>No. Observations:</th>      <td>  8479</td>      <th>  AIC:               </th>          <td>3.236e+04</td>\n",
       "</tr>\n",
       "<tr>\n",
       "  <th>Df Residuals:</th>          <td>  8478</td>      <th>  BIC:               </th>          <td>3.237e+04</td>\n",
       "</tr>\n",
       "<tr>\n",
       "  <th>Df Model:</th>              <td>     1</td>      <th>                     </th>              <td> </td>    \n",
       "</tr>\n",
       "<tr>\n",
       "  <th>Covariance Type:</th>      <td>nonrobust</td>    <th>                     </th>              <td> </td>    \n",
       "</tr>\n",
       "</table>\n",
       "<table class=\"simpletable\">\n",
       "<tr>\n",
       "   <td></td>      <th>coef</th>     <th>std err</th>      <th>t</th>      <th>P>|t|</th>  <th>[0.025</th>    <th>0.975]</th>  \n",
       "</tr>\n",
       "<tr>\n",
       "  <th>age</th> <td>    0.1863</td> <td>    0.000</td> <td>  372.839</td> <td> 0.000</td> <td>    0.185</td> <td>    0.187</td>\n",
       "</tr>\n",
       "</table>\n",
       "<table class=\"simpletable\">\n",
       "<tr>\n",
       "  <th>Omnibus:</th>       <td>285.535</td> <th>  Durbin-Watson:     </th> <td>   1.895</td>\n",
       "</tr>\n",
       "<tr>\n",
       "  <th>Prob(Omnibus):</th> <td> 0.000</td>  <th>  Jarque-Bera (JB):  </th> <td> 314.501</td>\n",
       "</tr>\n",
       "<tr>\n",
       "  <th>Skew:</th>          <td>-0.470</td>  <th>  Prob(JB):          </th> <td>5.09e-69</td>\n",
       "</tr>\n",
       "<tr>\n",
       "  <th>Kurtosis:</th>      <td> 3.074</td>  <th>  Cond. No.          </th> <td>    1.00</td>\n",
       "</tr>\n",
       "</table><br/><br/>Notes:<br/>[1] R² is computed without centering (uncentered) since the model does not contain a constant.<br/>[2] Standard Errors assume that the covariance matrix of the errors is correctly specified."
      ],
      "text/plain": [
       "<class 'statsmodels.iolib.summary.Summary'>\n",
       "\"\"\"\n",
       "                                 OLS Regression Results                                \n",
       "=======================================================================================\n",
       "Dep. Variable:                  lwage   R-squared (uncentered):                   0.943\n",
       "Model:                            OLS   Adj. R-squared (uncentered):              0.943\n",
       "Method:                 Least Squares   F-statistic:                          1.390e+05\n",
       "Date:                Wed, 22 Dec 2021   Prob (F-statistic):                        0.00\n",
       "Time:                        13:44:19   Log-Likelihood:                         -16181.\n",
       "No. Observations:                8479   AIC:                                  3.236e+04\n",
       "Df Residuals:                    8478   BIC:                                  3.237e+04\n",
       "Df Model:                           1                                                  \n",
       "Covariance Type:            nonrobust                                                  \n",
       "==============================================================================\n",
       "                 coef    std err          t      P>|t|      [0.025      0.975]\n",
       "------------------------------------------------------------------------------\n",
       "age            0.1863      0.000    372.839      0.000       0.185       0.187\n",
       "==============================================================================\n",
       "Omnibus:                      285.535   Durbin-Watson:                   1.895\n",
       "Prob(Omnibus):                  0.000   Jarque-Bera (JB):              314.501\n",
       "Skew:                          -0.470   Prob(JB):                     5.09e-69\n",
       "Kurtosis:                       3.074   Cond. No.                         1.00\n",
       "==============================================================================\n",
       "\n",
       "Notes:\n",
       "[1] R² is computed without centering (uncentered) since the model does not contain a constant.\n",
       "[2] Standard Errors assume that the covariance matrix of the errors is correctly specified.\n",
       "\"\"\""
      ]
     },
     "execution_count": 24,
     "metadata": {},
     "output_type": "execute_result"
    }
   ],
   "source": [
    "model_age0 = sm.OLS(y, X).fit()\n",
    "model_age0.summary()"
   ]
  },
  {
   "cell_type": "markdown",
   "metadata": {},
   "source": [
    "Race: white-0\n",
    "black-1\n",
    "Asian or pacific islander-3\n",
    "Amer Indian Aleut or Eskimo -4"
   ]
  },
  {
   "cell_type": "code",
   "execution_count": 25,
   "metadata": {},
   "outputs": [],
   "source": [
    "y = df1['lwage']\n",
    "X = df1[['sex','member_of_labor_union']]\n",
    "\n",
    "X = sm.add_constant(X)"
   ]
  },
  {
   "cell_type": "code",
   "execution_count": 26,
   "metadata": {},
   "outputs": [
    {
     "data": {
      "text/html": [
       "<table class=\"simpletable\">\n",
       "<caption>OLS Regression Results</caption>\n",
       "<tr>\n",
       "  <th>Dep. Variable:</th>          <td>lwage</td>      <th>  R-squared:         </th> <td>   0.118</td> \n",
       "</tr>\n",
       "<tr>\n",
       "  <th>Model:</th>                   <td>OLS</td>       <th>  Adj. R-squared:    </th> <td>   0.118</td> \n",
       "</tr>\n",
       "<tr>\n",
       "  <th>Method:</th>             <td>Least Squares</td>  <th>  F-statistic:       </th> <td>   745.4</td> \n",
       "</tr>\n",
       "<tr>\n",
       "  <th>Date:</th>             <td>Wed, 22 Dec 2021</td> <th>  Prob (F-statistic):</th> <td>1.29e-304</td>\n",
       "</tr>\n",
       "<tr>\n",
       "  <th>Time:</th>                 <td>13:44:20</td>     <th>  Log-Likelihood:    </th> <td> -7751.8</td> \n",
       "</tr>\n",
       "<tr>\n",
       "  <th>No. Observations:</th>      <td> 11179</td>      <th>  AIC:               </th> <td>1.551e+04</td>\n",
       "</tr>\n",
       "<tr>\n",
       "  <th>Df Residuals:</th>          <td> 11176</td>      <th>  BIC:               </th> <td>1.553e+04</td>\n",
       "</tr>\n",
       "<tr>\n",
       "  <th>Df Model:</th>              <td>     2</td>      <th>                     </th>     <td> </td>    \n",
       "</tr>\n",
       "<tr>\n",
       "  <th>Covariance Type:</th>      <td>nonrobust</td>    <th>                     </th>     <td> </td>    \n",
       "</tr>\n",
       "</table>\n",
       "<table class=\"simpletable\">\n",
       "<tr>\n",
       "            <td></td>               <th>coef</th>     <th>std err</th>      <th>t</th>      <th>P>|t|</th>  <th>[0.025</th>    <th>0.975]</th>  \n",
       "</tr>\n",
       "<tr>\n",
       "  <th>const</th>                 <td>    6.7566</td> <td>    0.007</td> <td>  936.784</td> <td> 0.000</td> <td>    6.742</td> <td>    6.771</td>\n",
       "</tr>\n",
       "<tr>\n",
       "  <th>sex</th>                   <td>   -0.1527</td> <td>    0.009</td> <td>  -16.423</td> <td> 0.000</td> <td>   -0.171</td> <td>   -0.134</td>\n",
       "</tr>\n",
       "<tr>\n",
       "  <th>member_of_labor_union</th> <td>    0.3885</td> <td>    0.012</td> <td>   31.627</td> <td> 0.000</td> <td>    0.364</td> <td>    0.413</td>\n",
       "</tr>\n",
       "</table>\n",
       "<table class=\"simpletable\">\n",
       "<tr>\n",
       "  <th>Omnibus:</th>       <td>713.144</td> <th>  Durbin-Watson:     </th> <td>   2.026</td> \n",
       "</tr>\n",
       "<tr>\n",
       "  <th>Prob(Omnibus):</th> <td> 0.000</td>  <th>  Jarque-Bera (JB):  </th> <td>1416.426</td> \n",
       "</tr>\n",
       "<tr>\n",
       "  <th>Skew:</th>          <td> 0.450</td>  <th>  Prob(JB):          </th> <td>2.67e-308</td>\n",
       "</tr>\n",
       "<tr>\n",
       "  <th>Kurtosis:</th>      <td> 4.494</td>  <th>  Cond. No.          </th> <td>    3.38</td> \n",
       "</tr>\n",
       "</table><br/><br/>Notes:<br/>[1] Standard Errors assume that the covariance matrix of the errors is correctly specified."
      ],
      "text/plain": [
       "<class 'statsmodels.iolib.summary.Summary'>\n",
       "\"\"\"\n",
       "                            OLS Regression Results                            \n",
       "==============================================================================\n",
       "Dep. Variable:                  lwage   R-squared:                       0.118\n",
       "Model:                            OLS   Adj. R-squared:                  0.118\n",
       "Method:                 Least Squares   F-statistic:                     745.4\n",
       "Date:                Wed, 22 Dec 2021   Prob (F-statistic):          1.29e-304\n",
       "Time:                        13:44:20   Log-Likelihood:                -7751.8\n",
       "No. Observations:               11179   AIC:                         1.551e+04\n",
       "Df Residuals:                   11176   BIC:                         1.553e+04\n",
       "Df Model:                           2                                         \n",
       "Covariance Type:            nonrobust                                         \n",
       "=========================================================================================\n",
       "                            coef    std err          t      P>|t|      [0.025      0.975]\n",
       "-----------------------------------------------------------------------------------------\n",
       "const                     6.7566      0.007    936.784      0.000       6.742       6.771\n",
       "sex                      -0.1527      0.009    -16.423      0.000      -0.171      -0.134\n",
       "member_of_labor_union     0.3885      0.012     31.627      0.000       0.364       0.413\n",
       "==============================================================================\n",
       "Omnibus:                      713.144   Durbin-Watson:                   2.026\n",
       "Prob(Omnibus):                  0.000   Jarque-Bera (JB):             1416.426\n",
       "Skew:                           0.450   Prob(JB):                    2.67e-308\n",
       "Kurtosis:                       4.494   Cond. No.                         3.38\n",
       "==============================================================================\n",
       "\n",
       "Notes:\n",
       "[1] Standard Errors assume that the covariance matrix of the errors is correctly specified.\n",
       "\"\"\""
      ]
     },
     "execution_count": 26,
     "metadata": {},
     "output_type": "execute_result"
    }
   ],
   "source": [
    "model_sex0 = sm.OLS(y, X).fit()\n",
    "model_sex0.summary()"
   ]
  },
  {
   "cell_type": "code",
   "execution_count": 29,
   "metadata": {},
   "outputs": [
    {
     "data": {
      "text/html": [
       "<table style=\"text-align:center\"><tr><td colspan=\"4\" style=\"border-bottom: 1px solid black\"></td></tr><tr><td style=\"text-align:left\"></td><td colspan=\"3\"><em>Dependent variable:lwage</em></td></tr><tr><td style=\"text-align:left\"></td><tr><td style=\"text-align:left\"></td><td>(1)</td><td>(2)</td><td>(3)</td></tr><tr><td colspan=\"4\" style=\"border-bottom: 1px solid black\"></td></tr><tr><td style=\"text-align:left\">const</td><td>6.577<sup>***</sup></td><td>6.757<sup>***</sup></td><td>6.507<sup>***</sup></td></tr><tr><td style=\"text-align:left\"></td><td>(0.012)</td><td>(0.007)</td><td>(0.009)</td></tr><tr><td style=\"text-align:left\">education</td><td>0.152<sup>***</sup></td><td></td><td>0.187<sup>***</sup></td></tr><tr><td style=\"text-align:left\"></td><td>(0.008)</td><td></td><td>(0.006)</td></tr><tr><td style=\"text-align:left\">member_of_labor_union</td><td></td><td>0.389<sup>***</sup></td><td></td></tr><tr><td style=\"text-align:left\"></td><td></td><td>(0.012)</td><td></td></tr><tr><td style=\"text-align:left\">sex</td><td></td><td>-0.153<sup>***</sup></td><td></td></tr><tr><td style=\"text-align:left\"></td><td></td><td>(0.009)</td><td></td></tr><td colspan=\"4\" style=\"border-bottom: 1px solid black\"></td></tr><tr><td style=\"text-align: left\">Observations</td><td>8,479</td><td>11,179</td><td>11,179</td></tr><tr><td style=\"text-align: left\">R<sup>2</sup></td><td>0.044</td><td>0.118</td><td>0.072</td></tr><tr><td style=\"text-align: left\">Adjusted R<sup>2</sup></td><td>0.043</td><td>0.118</td><td>0.072</td></tr><tr><td style=\"text-align: left\">Residual Std. Error</td><td>0.490 (df=8477)</td><td>0.484 (df=11176)</td><td>0.496 (df=11177)</td></tr><tr><td style=\"text-align: left\">F Statistic</td><td>386.123<sup>***</sup> (df=1; 8477)</td><td>745.429<sup>***</sup> (df=2; 11176)</td><td>873.312<sup>***</sup> (df=1; 11177)</td></tr><tr><td colspan=\"4\" style=\"border-bottom: 1px solid black\"></td></tr><tr><td style=\"text-align: left\">Note:</td>\n",
       " <td colspan=\"3\" style=\"text-align: right\">\n",
       "  <sup>*</sup>p&lt;0.1;\n",
       "  <sup>**</sup>p&lt;0.05;\n",
       "  <sup>***</sup>p&lt;0.01\n",
       " </td></tr></table>"
      ],
      "text/plain": [
       "<stargazer.stargazer.Stargazer at 0x11088d6cfd0>"
      ]
     },
     "execution_count": 29,
     "metadata": {},
     "output_type": "execute_result"
    }
   ],
   "source": [
    "Stargazer([model,model_sex0,model5])"
   ]
  }
 ],
 "metadata": {
  "kernelspec": {
   "display_name": "Python 3 (ipykernel)",
   "language": "python",
   "name": "python3"
  },
  "language_info": {
   "codemirror_mode": {
    "name": "ipython",
    "version": 3
   },
   "file_extension": ".py",
   "mimetype": "text/x-python",
   "name": "python",
   "nbconvert_exporter": "python",
   "pygments_lexer": "ipython3",
   "version": "3.8.3"
  }
 },
 "nbformat": 4,
 "nbformat_minor": 4
}
